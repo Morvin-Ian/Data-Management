{
 "cells": [
  {
   "cell_type": "code",
   "execution_count": 1,
   "id": "public-leisure",
   "metadata": {},
   "outputs": [],
   "source": [
    "import matplotlib\n",
    "import pandas\n",
    "import numpy\n",
    "from pandas.plotting import scatter_matrix\n",
    "\n",
    "data = pandas.read_csv('steam.csv')\n",
    "\n",
    "#Histogram\n",
    "data.hist()\n",
    "matplotlib.pyplot.show()\n",
    "\n",
    "#Density plots\n",
    "data.plot(kind='density', subplots=True, layout=(3,3), sharex=False)\n",
    "matplotlib.pyplot.show()\n",
    "\n",
    "# Box and Whiskers\n",
    "data.plot(kind='box', subplots=True, layout=(3,3), sharex=False)\n",
    "matplotlib.pyplot.show()\n",
    "\n",
    "# Correlation Matrix plot\n",
    "correlations = data.corr()\n",
    "fig = matplotlib.pyplot.figure()\n",
    "ax = fig.add_subplot(111)\n",
    "cax = ax.matshow(correlations, vmin=-1, vmax=1)\n",
    "fig.colorbar(cax)\n",
    "ticks = numpy.arange(0,9,1)\n",
    "ax.set_xticks(ticks)\n",
    "ax.set_yticks(ticks)\n",
    "matplotlib.pyplot.show()\n",
    "\n",
    "# Scatter Matrix Plot\n",
    "scatter_matrix(data)\n",
    "matplotlib.pyplot.show()\n"
   ]
  },
  {
   "cell_type": "code",
   "execution_count": null,
   "id": "electoral-booth",
   "metadata": {},
   "outputs": [],
   "source": []
  }
 ],
 "metadata": {
  "kernelspec": {
   "display_name": "Python 3",
   "language": "python",
   "name": "python3"
  },
  "language_info": {
   "codemirror_mode": {
    "name": "ipython",
    "version": 3
   },
   "file_extension": ".py",
   "mimetype": "text/x-python",
   "name": "python",
   "nbconvert_exporter": "python",
   "pygments_lexer": "ipython3",
   "version": "3.9.7"
  }
 },
 "nbformat": 4,
 "nbformat_minor": 5
}
