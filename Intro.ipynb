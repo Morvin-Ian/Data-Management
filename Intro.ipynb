{
 "cells": [
  {
   "cell_type": "code",
   "execution_count": 8,
   "id": "olympic-sport",
   "metadata": {},
   "outputs": [
    {
     "name": "stderr",
     "output_type": "stream",
     "text": [
      "<ipython-input-8-799bed99d0b1>:15: FutureWarning: Dropping of nuisance columns in DataFrame reductions (with 'numeric_only=None') is deprecated; in a future version this will raise TypeError.  Select only valid columns before calling the reduction.\n",
      "  data.skew()\n"
     ]
    },
    {
     "data": {
      "text/plain": [
       "151603712     0.718301\n",
       "1.0          25.035336\n",
       "0             0.000000\n",
       "dtype: float64"
      ]
     },
     "execution_count": 8,
     "metadata": {},
     "output_type": "execute_result"
    }
   ],
   "source": [
    "import pandas\n",
    "data = pandas.read_csv(\"steam.csv\")\n",
    "data\n",
    "\n",
    "#basic methods/attributes in panda\n",
    "\n",
    "data.shape #Gives the number of records and collums\n",
    "data.describe() #describes the mean, std (Statistical summary) etc of the csv\n",
    "data.values #Gives the records in form of arrays\n",
    "data.dtypes # checks the data types of attributes\n",
    "\n",
    "relation = data.corr(method='pearson')# the relationship between attributes\n",
    "relation\n",
    "\n",
    "data.skew() # Presence of a skew may indicate data needs correction\n"
   ]
  },
  {
   "cell_type": "code",
   "execution_count": null,
   "id": "worthy-relaxation",
   "metadata": {},
   "outputs": [],
   "source": []
  }
 ],
 "metadata": {
  "kernelspec": {
   "display_name": "Python 3",
   "language": "python",
   "name": "python3"
  },
  "language_info": {
   "codemirror_mode": {
    "name": "ipython",
    "version": 3
   },
   "file_extension": ".py",
   "mimetype": "text/x-python",
   "name": "python",
   "nbconvert_exporter": "python",
   "pygments_lexer": "ipython3",
   "version": "3.9.7"
  }
 },
 "nbformat": 4,
 "nbformat_minor": 5
}
