{
 "cells": [
  {
   "cell_type": "code",
   "execution_count": 8,
   "id": "measured-regression",
   "metadata": {},
   "outputs": [],
   "source": [
    "from pandas import read_csv\n",
    "from numpy import set_printoptions\n",
    "from sklearn import preprocessing\n",
    "\n",
    "from sklearn.preprocessing import Normalizer\n",
    "\n",
    "from sklearn.preprocessing import Binarizer\n",
    "\n",
    "#Scaling\n",
    "data = ([[100, 0.001, 20],\n",
    "\t\t\t\t[8, 0.05, 30],\n",
    "\t\t\t\t[50, 0.005, 40],\n",
    "\t\t\t\t[88, 0.07, 6],\n",
    "\t\t\t\t[4, 1, 80]])\n",
    "\n",
    "# define min max scaler\n",
    "scaler = preprocessing.MinMaxScaler(feature_range=(50,100))\n",
    "# transform data\n",
    "scaled = scaler.fit_transform(data)\n",
    "# scaled\n",
    "\n",
    "#Normalization (L1 normalization)\n",
    "normalizer = Normalizer(norm=\"l1\").fit(data)\n",
    "normalized = normalizer.transform(data)\n",
    "set_printoptions(precision=2)\n",
    "# normalized\n",
    "\n",
    "#Normalization (L2 normalization)\n",
    "normalizer2 = Normalizer(norm=\"l2\").fit(data)\n",
    "normalized2 = normalizer.transform(data)\n",
    "set_printoptions(precision=2)\n",
    "# normalized2\n",
    "\n",
    "#Binarization\n",
    "binarizer = Binarizer(threshold=0.5).fit(data) #Above threshold = 1/ Below=0\n",
    "Data_binarized = binarizer.transform(data)\n",
    "# Data_binarized\n",
    "\n",
    "#Labelling data\n",
    "labels = ['Age', 'Height', 'IQ-level']\n",
    "encoder = preprocessing.LabelEncoder()\n",
    "encoder.fit(labels)\n",
    "test_labels = ['Age','IQ-level']\n",
    "encoded_values = encoder.transform(test_labels)\n",
    "print(\"\\nLabels =\", test_labels)\n",
    "print(\"Encoded values =\", list(encoded_values))\n",
    "encoded_values = [0,2]\n",
    "decoded_list = encoder.inverse_transform(encoded_values)\n",
    "decoded_list\n",
    "\n"
   ]
  },
  {
   "cell_type": "code",
   "execution_count": null,
   "id": "presidential-stranger",
   "metadata": {},
   "outputs": [],
   "source": []
  }
 ],
 "metadata": {
  "kernelspec": {
   "display_name": "Python 3",
   "language": "python",
   "name": "python3"
  },
  "language_info": {
   "codemirror_mode": {
    "name": "ipython",
    "version": 3
   },
   "file_extension": ".py",
   "mimetype": "text/x-python",
   "name": "python",
   "nbconvert_exporter": "python",
   "pygments_lexer": "ipython3",
   "version": "3.9.7"
  }
 },
 "nbformat": 4,
 "nbformat_minor": 5
}
