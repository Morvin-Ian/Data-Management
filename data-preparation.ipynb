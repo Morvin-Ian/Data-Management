{
 "cells": [
  {
   "cell_type": "code",
   "execution_count": 10,
   "id": "measured-regression",
   "metadata": {},
   "outputs": [
    {
     "name": "stdout",
     "output_type": "stream",
     "text": [
      "[[100, 0.001], [8, 0.05], [50, 0.005], [88, 0.07], [4, 0.1]]\n"
     ]
    },
    {
     "data": {
      "text/plain": [
       "array([[100.        ,  50.        ],\n",
       "       [ 52.08333333,  74.74747475],\n",
       "       [ 73.95833333,  52.02020202],\n",
       "       [ 93.75      ,  84.84848485],\n",
       "       [ 50.        , 100.        ]])"
      ]
     },
     "execution_count": 10,
     "metadata": {},
     "output_type": "execute_result"
    }
   ],
   "source": [
    "from pandas import read_csv\n",
    "from numpy import set_printoptions\n",
    "from sklearn import preprocessing\n",
    "\n",
    "#Scaling\n",
    "data = ([[100, 0.001],\n",
    "\t\t\t\t[8, 0.05],\n",
    "\t\t\t\t[50, 0.005],\n",
    "\t\t\t\t[88, 0.07],\n",
    "\t\t\t\t[4, 0.1]])\n",
    "print(data)\n",
    "# define min max scaler\n",
    "scaler = preprocessing.MinMaxScaler(feature_range=(50,100))\n",
    "# transform data\n",
    "scaled = scaler.fit_transform(data)\n",
    "scaled\n",
    "\n",
    "#Normalization\n"
   ]
  }
 ],
 "metadata": {
  "kernelspec": {
   "display_name": "Python 3",
   "language": "python",
   "name": "python3"
  },
  "language_info": {
   "codemirror_mode": {
    "name": "ipython",
    "version": 3
   },
   "file_extension": ".py",
   "mimetype": "text/x-python",
   "name": "python",
   "nbconvert_exporter": "python",
   "pygments_lexer": "ipython3",
   "version": "3.9.7"
  }
 },
 "nbformat": 4,
 "nbformat_minor": 5
}
